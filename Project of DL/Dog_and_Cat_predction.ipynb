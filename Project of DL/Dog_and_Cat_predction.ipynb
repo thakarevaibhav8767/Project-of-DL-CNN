{
  "nbformat": 4,
  "nbformat_minor": 0,
  "metadata": {
    "colab": {
      "provenance": []
    },
    "kernelspec": {
      "name": "python3",
      "display_name": "Python 3"
    },
    "language_info": {
      "name": "python"
    }
  },
  "cells": [
    {
      "cell_type": "code",
      "execution_count": 2,
      "metadata": {
        "id": "Wz5P86wg1yXo"
      },
      "outputs": [],
      "source": [
        "import tensorflow as tf\n",
        "from tensorflow.keras.models import Sequential\n",
        "from tensorflow.keras.layers import Conv2D, MaxPooling2D, Flatten, Dense, Dropout\n",
        "from tensorflow.keras.preprocessing.image import ImageDataGenerator\n",
        "from tensorflow.keras.optimizers import Adam\n",
        "import matplotlib.pyplot as plt\n"
      ]
    },
    {
      "cell_type": "code",
      "source": [
        "! git clone https://github.com/alokproc/Dog-or-Cat-Prediction-using-CNN-Model.git"
      ],
      "metadata": {
        "colab": {
          "base_uri": "https://localhost:8080/"
        },
        "id": "H0L98N361498",
        "outputId": "10dc44e4-7d39-435b-c415-5ffca3b5e51b"
      },
      "execution_count": 3,
      "outputs": [
        {
          "output_type": "stream",
          "name": "stdout",
          "text": [
            "Cloning into 'Dog-or-Cat-Prediction-using-CNN-Model'...\n",
            "remote: Enumerating objects: 10024, done.\u001b[K\n",
            "remote: Counting objects: 100% (6/6), done.\u001b[K\n",
            "remote: Compressing objects: 100% (6/6), done.\u001b[K\n",
            "remote: Total 10024 (delta 1), reused 1 (delta 0), pack-reused 10018\u001b[K\n",
            "Receiving objects: 100% (10024/10024), 216.40 MiB | 33.84 MiB/s, done.\n",
            "Resolving deltas: 100% (4/4), done.\n",
            "Updating files: 100% (10008/10008), done.\n"
          ]
        }
      ]
    },
    {
      "cell_type": "code",
      "source": [],
      "metadata": {
        "id": "gbA0_9tX3agE"
      },
      "execution_count": 3,
      "outputs": []
    },
    {
      "cell_type": "code",
      "source": [
        "train_dir = 'Dog-or-Cat-Prediction-using-CNN-Model/dataset/training_set'\n",
        "test_dir = 'Dog-or-Cat-Prediction-using-CNN-Model/dataset/test_set'\n"
      ],
      "metadata": {
        "id": "EjUoDonw2CtS"
      },
      "execution_count": 4,
      "outputs": []
    },
    {
      "cell_type": "code",
      "source": [
        "img_width, img_height = 150, 150  # Target image size\n",
        "batch_size = 32"
      ],
      "metadata": {
        "id": "FPEGU4Ny2IAj"
      },
      "execution_count": 5,
      "outputs": []
    },
    {
      "cell_type": "code",
      "source": [
        "train_datagen = ImageDataGenerator(\n",
        "    rescale=1./255,  # Normalize pixel values\n",
        "    rotation_range=40,\n",
        "    width_shift_range=0.2,\n",
        "    height_shift_range=0.2,\n",
        "    shear_range=0.2,\n",
        "    zoom_range=0.2,\n",
        "    horizontal_flip=True)"
      ],
      "metadata": {
        "id": "xX2NHaX12MLH"
      },
      "execution_count": 6,
      "outputs": []
    },
    {
      "cell_type": "code",
      "source": [
        "test_datagen = ImageDataGenerator(rescale=1./255)"
      ],
      "metadata": {
        "id": "P_KfRFLI2QHU"
      },
      "execution_count": 7,
      "outputs": []
    },
    {
      "cell_type": "code",
      "source": [
        "train_generator = train_datagen.flow_from_directory(\n",
        "    train_dir,\n",
        "    target_size=(img_width, img_height),\n",
        "    batch_size=batch_size,\n",
        "    class_mode='binary')"
      ],
      "metadata": {
        "colab": {
          "base_uri": "https://localhost:8080/"
        },
        "id": "J2haeNqd2TOP",
        "outputId": "96eccfc0-f49c-4616-8cb0-5bd037c02512"
      },
      "execution_count": 8,
      "outputs": [
        {
          "output_type": "stream",
          "name": "stdout",
          "text": [
            "Found 8000 images belonging to 2 classes.\n"
          ]
        }
      ]
    },
    {
      "cell_type": "code",
      "source": [
        "test_generator = test_datagen.flow_from_directory(\n",
        "    test_dir,\n",
        "    target_size=(img_width, img_height),\n",
        "    batch_size=batch_size,\n",
        "    class_mode='binary')"
      ],
      "metadata": {
        "colab": {
          "base_uri": "https://localhost:8080/"
        },
        "id": "F79fuKdP2ZFK",
        "outputId": "e23b8835-d32e-4731-f7b9-abaf448c65e6"
      },
      "execution_count": 9,
      "outputs": [
        {
          "output_type": "stream",
          "name": "stdout",
          "text": [
            "Found 2000 images belonging to 2 classes.\n"
          ]
        }
      ]
    },
    {
      "cell_type": "code",
      "source": [
        "model = Sequential()\n",
        "model.add(Conv2D(32, (3, 3), activation='relu', input_shape=(img_width, img_height, 3)))\n",
        "model.add(MaxPooling2D((2, 2)))\n",
        "\n",
        "model.add(Conv2D(64, (3, 3), activation='relu'))\n",
        "model.add(MaxPooling2D((2, 2)))\n",
        "\n",
        "model.add(Conv2D(128, (3, 3), activation='relu'))\n",
        "model.add(MaxPooling2D((2, 2)))\n",
        "\n",
        "model.add(Flatten())\n",
        "model.add(Dense(128, activation='relu'))\n",
        "model.add(Dropout(0.5))\n",
        "model.add(Dense(1, activation='sigmoid'))"
      ],
      "metadata": {
        "id": "jb6WLbSr2evn"
      },
      "execution_count": 10,
      "outputs": []
    },
    {
      "cell_type": "code",
      "source": [
        "model.compile(loss='binary_crossentropy',\n",
        "              optimizer=Adam(),\n",
        "              metrics=['accuracy'])"
      ],
      "metadata": {
        "id": "7kiFaE9L2pWq"
      },
      "execution_count": 11,
      "outputs": []
    },
    {
      "cell_type": "code",
      "source": [
        "epochs = 10  # Adjust as needed\n",
        "\n",
        "history = model.fit(\n",
        "    train_generator,\n",
        "    epochs=epochs,\n",
        "    validation_data=test_generator)"
      ],
      "metadata": {
        "colab": {
          "base_uri": "https://localhost:8080/"
        },
        "id": "ZV1KxuVP2tMP",
        "outputId": "f1a8867c-f33a-47f1-c3ad-7a2b0c03c998"
      },
      "execution_count": 16,
      "outputs": [
        {
          "output_type": "stream",
          "name": "stdout",
          "text": [
            "Epoch 1/10\n",
            "250/250 [==============================] - 443s 2s/step - loss: 0.5291 - accuracy: 0.7346 - val_loss: 0.4593 - val_accuracy: 0.7750\n",
            "Epoch 2/10\n",
            "250/250 [==============================] - 427s 2s/step - loss: 0.5279 - accuracy: 0.7379 - val_loss: 0.4560 - val_accuracy: 0.7920\n",
            "Epoch 3/10\n",
            "250/250 [==============================] - 418s 2s/step - loss: 0.5227 - accuracy: 0.7439 - val_loss: 0.4637 - val_accuracy: 0.7680\n",
            "Epoch 4/10\n",
            "250/250 [==============================] - 414s 2s/step - loss: 0.5147 - accuracy: 0.7448 - val_loss: 0.4800 - val_accuracy: 0.7580\n",
            "Epoch 5/10\n",
            "250/250 [==============================] - 408s 2s/step - loss: 0.5044 - accuracy: 0.7505 - val_loss: 0.4388 - val_accuracy: 0.8145\n",
            "Epoch 6/10\n",
            "250/250 [==============================] - 443s 2s/step - loss: 0.4847 - accuracy: 0.7679 - val_loss: 0.4263 - val_accuracy: 0.8020\n",
            "Epoch 7/10\n",
            "250/250 [==============================] - 434s 2s/step - loss: 0.4824 - accuracy: 0.7715 - val_loss: 0.4530 - val_accuracy: 0.7870\n",
            "Epoch 8/10\n",
            "250/250 [==============================] - 482s 2s/step - loss: 0.4856 - accuracy: 0.7685 - val_loss: 0.4334 - val_accuracy: 0.8020\n",
            "Epoch 9/10\n",
            "250/250 [==============================] - 460s 2s/step - loss: 0.4770 - accuracy: 0.7711 - val_loss: 0.4475 - val_accuracy: 0.7945\n",
            "Epoch 10/10\n",
            "250/250 [==============================] - 461s 2s/step - loss: 0.4585 - accuracy: 0.7788 - val_loss: 0.3994 - val_accuracy: 0.8205\n"
          ]
        }
      ]
    },
    {
      "cell_type": "code",
      "source": [
        "import matplotlib.pyplot as plt\n",
        "plt.plot(history.history['accuracy'], label='Train Accuracy')\n",
        "plt.plot(history.history['val_accuracy'], label='Validation Accuracy')\n",
        "plt.legend()\n",
        "plt.show()\n",
        "\n",
        "# Similar plot for loss\n",
        "plt.plot(history.history['loss'], label='Train Loss')\n",
        "plt.plot(history.history['val_loss'], label='Validation Loss')\n",
        "plt.legend()\n",
        "plt.show()"
      ],
      "metadata": {
        "id": "4Gyjr38X2xbf"
      },
      "execution_count": null,
      "outputs": []
    },
    {
      "cell_type": "code",
      "source": [
        "test_loss, test_acc = model.evaluate(test_generator)\n",
        "print('Test accuracy:', test_acc)"
      ],
      "metadata": {
        "colab": {
          "base_uri": "https://localhost:8080/"
        },
        "id": "6W3Kdj7b3clE",
        "outputId": "9e008390-e1d0-4387-9241-c31796e5be3a"
      },
      "execution_count": 18,
      "outputs": [
        {
          "output_type": "stream",
          "name": "stdout",
          "text": [
            "63/63 [==============================] - 32s 512ms/step - loss: 0.3994 - accuracy: 0.8205\n",
            "Test accuracy: 0.8205000162124634\n"
          ]
        }
      ]
    },
    {
      "cell_type": "code",
      "source": [
        "from keras.preprocessing import image\n",
        "import numpy as np\n",
        "img_path = '/content/Dog-or-Cat-Prediction-using-CNN-Model/dataset/training_set/dogs/dog.10.jpg'\n",
        "img = image.load_img(img_path, target_size=(img_width, img_height))\n",
        "img_array = image.img_to_array(img)\n",
        "img_array = np.expand_dims(img_array, axis=0)  # Add a batch dimension\n",
        "img_array /= 255."
      ],
      "metadata": {
        "id": "_1ccdjyP3hD_"
      },
      "execution_count": 20,
      "outputs": []
    },
    {
      "cell_type": "code",
      "source": [
        "prediction = model.predict(img_array)\n",
        "result = prediction[0][0]  # Access the probability\n",
        "\n",
        "if result > 0.5:\n",
        "    print(\"The image is likely a dog.\")\n",
        "else:\n",
        "    print(\"The image is likely a cat.\")\n"
      ],
      "metadata": {
        "colab": {
          "base_uri": "https://localhost:8080/"
        },
        "id": "qlwzMkDL3tdM",
        "outputId": "b1e348e4-de82-4e6f-acf7-d23a0f351634"
      },
      "execution_count": 21,
      "outputs": [
        {
          "output_type": "stream",
          "name": "stdout",
          "text": [
            "1/1 [==============================] - 1s 568ms/step\n",
            "The image is likely a dog.\n"
          ]
        }
      ]
    },
    {
      "cell_type": "code",
      "source": [],
      "metadata": {
        "id": "6t68l1bu5VFZ"
      },
      "execution_count": null,
      "outputs": []
    }
  ]
}